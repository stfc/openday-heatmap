{
 "cells": [
  {
   "cell_type": "markdown",
   "id": "4eb3ccca-97f3-4fda-bed4-57b45a99e088",
   "metadata": {},
   "source": [
    "# QR barcode generation for Daresbury lab open day 2023"
   ]
  },
  {
   "cell_type": "code",
   "execution_count": 1,
   "id": "17fbe4a7-5dc6-4a30-895e-eff5a35f5f30",
   "metadata": {
    "tags": []
   },
   "outputs": [],
   "source": [
    "import segno\n",
    "import csv"
   ]
  },
  {
   "cell_type": "markdown",
   "id": "74e18fce-8e35-45c4-9cef-d2f6c10bb578",
   "metadata": {
    "tags": []
   },
   "source": [
    "## proof of concept static QC code"
   ]
  },
  {
   "cell_type": "code",
   "execution_count": 2,
   "id": "c3c9ee6b-b912-4bdf-90b1-040032858ff6",
   "metadata": {
    "tags": []
   },
   "outputs": [],
   "source": [
    "#test_qrcode = segno.make('https://www.eventbrite.co.uk/e/daresbury-laboratory-open-day-tickets-99005796001', error='q')\n",
    "#test_qrcode.save('qr_codes/hartreeQR.png', dark='darkblue', data_dark='steelblue', scale=5)"
   ]
  },
  {
   "cell_type": "markdown",
   "id": "3e8ac007-3dee-41e3-8405-9e5f6a68f0cf",
   "metadata": {},
   "source": [
    "### Functional version"
   ]
  },
  {
   "cell_type": "code",
   "execution_count": 3,
   "id": "588613ac-ba3d-4336-9e3d-47c582f159cd",
   "metadata": {
    "tags": []
   },
   "outputs": [],
   "source": [
    "def qrGen(url: str, logo_path: str, out_path: str, scale: int) -> str:\n",
    "    qr_dat = segno.make(url, error='q')\n",
    "    if logo_path:\n",
    "        return qr_dat.to_artistic(background=logo_path, target=out_path, scale=scale)\n",
    "    else:\n",
    "        qr_dat.to_artistic(background='the_way.gif', target='test_anim.gif', scale=8)\n",
    "        return qr_dat.save(out_path, dark='darkblue', data_dark='steelblue', scale=scale)"
   ]
  },
  {
   "cell_type": "markdown",
   "id": "8f4a4438-8312-4a10-97a7-9a9feee79835",
   "metadata": {
    "tags": []
   },
   "source": [
    "## Animated QR codes"
   ]
  },
  {
   "cell_type": "code",
   "execution_count": 4,
   "id": "3ad27b3b-4c88-491f-a756-dd0ed68cbf30",
   "metadata": {},
   "outputs": [],
   "source": [
    "#url = 'https://www.ukri.org'\n",
    "#qr_dat = segno.make(url, error='q')\n",
    "#qr_dat.to_artistic(background='img/ukri_animated.gif', target='qr_codes/test_anim.gif', scale=8, dark='blue', data_dark='steelblue',light='black')"
   ]
  },
  {
   "cell_type": "markdown",
   "id": "9bca3638-830f-49da-96ca-34c7396d0716",
   "metadata": {
    "tags": []
   },
   "source": [
    "watch out - dark code colour doesn't scan!"
   ]
  },
  {
   "cell_type": "code",
   "execution_count": 5,
   "id": "08021dce-e761-401d-b922-e50625d24332",
   "metadata": {},
   "outputs": [],
   "source": [
    "def qrGen_anim(url: str, logo_path: str, out_path: str, scale: int) -> str:\n",
    "    qr_dat = segno.make(url, error='q')\n",
    "    return qr_dat.to_artistic(background=logo_path, target=out_path, scale=scale, data_dark = '2E2D62', data_light='lightblue')"
   ]
  },
  {
   "cell_type": "code",
   "execution_count": 6,
   "id": "154314d1-63e6-490a-89af-5e1b39220d15",
   "metadata": {
    "tags": []
   },
   "outputs": [],
   "source": [
    "#qrGen_anim('https://daresbury-openday.co.uk', 'img/UKRI_Sting_Loop_with_Wordmark.gif', 'qr_codes/func_test.gif', 8)"
   ]
  },
  {
   "cell_type": "code",
   "execution_count": 7,
   "id": "1f497a26-338a-4de2-8d16-e35782988a9e",
   "metadata": {},
   "outputs": [
    {
     "data": {
      "text/plain": [
       "['https://heatmap.hartree.dev/zone/3d-printing?qrcode=1',\n",
       " 'https://heatmap.hartree.dev/zone/blackmagic-design?qrcode=2',\n",
       " 'https://heatmap.hartree.dev/zone/coding?qrcode=3',\n",
       " 'https://heatmap.hartree.dev/zone/computing?qrcode=4',\n",
       " 'https://heatmap.hartree.dev/zone/engineering-technology-centre?qrcode=5',\n",
       " 'https://heatmap.hartree.dev/zone/exploring-the-nucleus?qrcode=6',\n",
       " 'https://heatmap.hartree.dev/zone/innovation-centre?qrcode=7',\n",
       " 'https://heatmap.hartree.dev/zone/particles-and-light?qrcode=8',\n",
       " 'https://heatmap.hartree.dev/zone/space?qrcode=9',\n",
       " 'https://heatmap.hartree.dev/zone/super-powered-microscopes?qrcode=10',\n",
       " 'https://heatmap.hartree.dev/zone/talks-and-virtual-tours?qrcode=11',\n",
       " 'https://heatmap.hartree.dev/zone/the-wonder-marquee?qrcode=12',\n",
       " 'https://heatmap.hartree.dev/zone/particle-accelerator?qrcode=13',\n",
       " 'https://heatmap.hartree.dev/zone/particle-accelerator?qrcode=14']"
      ]
     },
     "execution_count": 7,
     "metadata": {},
     "output_type": "execute_result"
    }
   ],
   "source": [
    "with open('url_list.csv', newline='') as f:\n",
    "    reader = csv.reader(f)\n",
    "    url_list = list(reader)\n",
    "\n",
    "url_list = [item for sublist in url_list for item in sublist]\n",
    "url_list"
   ]
  },
  {
   "cell_type": "code",
   "execution_count": 8,
   "id": "c81f3ff0-76e8-4463-a265-a19c0c382f61",
   "metadata": {},
   "outputs": [
    {
     "data": {
      "text/plain": [
       "['3D Printing Zone',\n",
       " 'Lights, Camera, Action with Blackmagic Design',\n",
       " 'Coding Zone',\n",
       " 'Computing Zone',\n",
       " 'Engineering Technology Centre',\n",
       " 'Exploring the Nucleus Zone',\n",
       " 'Innovation Centre',\n",
       " 'Particles and Light Zone',\n",
       " 'Space Zone',\n",
       " 'Super Powered Microscopes',\n",
       " 'Talks and Virtual Tours',\n",
       " 'The Wonder Marquee',\n",
       " 'Particle Accelerator Zone A',\n",
       " 'Particle Accelerator Zone B']"
      ]
     },
     "execution_count": 8,
     "metadata": {},
     "output_type": "execute_result"
    }
   ],
   "source": [
    "with open('zone_names.csv', newline='') as f:\n",
    "    reader = csv.reader(f)\n",
    "    zone_list = list(reader)\n",
    "\n",
    "zone_names = [item for sublist in zone_list for item in sublist]\n",
    "zone_names"
   ]
  },
  {
   "cell_type": "code",
   "execution_count": 9,
   "id": "22ee806f-ff0e-4cae-836f-0a2efa4de9ce",
   "metadata": {},
   "outputs": [
    {
     "name": "stdout",
     "output_type": "stream",
     "text": [
      "https://heatmap.hartree.dev/zone/3d-printing?qrcode=1\n",
      "qr_codes/3D Printing Zone_qrcode_1.svg\n"
     ]
    },
    {
     "ename": "ValueError",
     "evalue": "unknown file extension: .svg",
     "output_type": "error",
     "traceback": [
      "\u001b[0;31m---------------------------------------------------------------------------\u001b[0m",
      "\u001b[0;31mKeyError\u001b[0m                                  Traceback (most recent call last)",
      "File \u001b[0;32m~/base-env/lib/python3.11/site-packages/PIL/Image.py:2390\u001b[0m, in \u001b[0;36mImage.save\u001b[0;34m(self, fp, format, **params)\u001b[0m\n\u001b[1;32m   2389\u001b[0m \u001b[38;5;28;01mtry\u001b[39;00m:\n\u001b[0;32m-> 2390\u001b[0m     \u001b[38;5;28mformat\u001b[39m \u001b[38;5;241m=\u001b[39m \u001b[43mEXTENSION\u001b[49m\u001b[43m[\u001b[49m\u001b[43mext\u001b[49m\u001b[43m]\u001b[49m\n\u001b[1;32m   2391\u001b[0m \u001b[38;5;28;01mexcept\u001b[39;00m \u001b[38;5;167;01mKeyError\u001b[39;00m \u001b[38;5;28;01mas\u001b[39;00m e:\n",
      "\u001b[0;31mKeyError\u001b[0m: '.svg'",
      "\nThe above exception was the direct cause of the following exception:\n",
      "\u001b[0;31mValueError\u001b[0m                                Traceback (most recent call last)",
      "Cell \u001b[0;32mIn[9], line 10\u001b[0m\n\u001b[1;32m      7\u001b[0m zone_number \u001b[38;5;241m+\u001b[39m\u001b[38;5;241m=\u001b[39m \u001b[38;5;241m1\u001b[39m\n\u001b[1;32m      8\u001b[0m \u001b[38;5;28mprint\u001b[39m(out_name)\n\u001b[0;32m---> 10\u001b[0m \u001b[43mqrGen\u001b[49m\u001b[43m(\u001b[49m\u001b[43mi\u001b[49m\u001b[43m,\u001b[49m\u001b[43m \u001b[49m\u001b[38;5;124;43m'\u001b[39;49m\u001b[38;5;124;43mimg/ukri_logo.png\u001b[39;49m\u001b[38;5;124;43m'\u001b[39;49m\u001b[43m,\u001b[49m\u001b[43m \u001b[49m\u001b[43mout_name\u001b[49m\u001b[43m,\u001b[49m\u001b[43m \u001b[49m\u001b[38;5;241;43m20\u001b[39;49m\u001b[43m)\u001b[49m\n",
      "Cell \u001b[0;32mIn[3], line 4\u001b[0m, in \u001b[0;36mqrGen\u001b[0;34m(url, logo_path, out_path, scale)\u001b[0m\n\u001b[1;32m      2\u001b[0m qr_dat \u001b[38;5;241m=\u001b[39m segno\u001b[38;5;241m.\u001b[39mmake(url, error\u001b[38;5;241m=\u001b[39m\u001b[38;5;124m'\u001b[39m\u001b[38;5;124mq\u001b[39m\u001b[38;5;124m'\u001b[39m)\n\u001b[1;32m      3\u001b[0m \u001b[38;5;28;01mif\u001b[39;00m logo_path:\n\u001b[0;32m----> 4\u001b[0m     \u001b[38;5;28;01mreturn\u001b[39;00m \u001b[43mqr_dat\u001b[49m\u001b[38;5;241;43m.\u001b[39;49m\u001b[43mto_artistic\u001b[49m\u001b[43m(\u001b[49m\u001b[43mbackground\u001b[49m\u001b[38;5;241;43m=\u001b[39;49m\u001b[43mlogo_path\u001b[49m\u001b[43m,\u001b[49m\u001b[43m \u001b[49m\u001b[43mtarget\u001b[49m\u001b[38;5;241;43m=\u001b[39;49m\u001b[43mout_path\u001b[49m\u001b[43m,\u001b[49m\u001b[43m \u001b[49m\u001b[43mscale\u001b[49m\u001b[38;5;241;43m=\u001b[39;49m\u001b[43mscale\u001b[49m\u001b[43m)\u001b[49m\n\u001b[1;32m      5\u001b[0m \u001b[38;5;28;01melse\u001b[39;00m:\n\u001b[1;32m      6\u001b[0m     qr_dat\u001b[38;5;241m.\u001b[39mto_artistic(background\u001b[38;5;241m=\u001b[39m\u001b[38;5;124m'\u001b[39m\u001b[38;5;124mthe_way.gif\u001b[39m\u001b[38;5;124m'\u001b[39m, target\u001b[38;5;241m=\u001b[39m\u001b[38;5;124m'\u001b[39m\u001b[38;5;124mtest_anim.gif\u001b[39m\u001b[38;5;124m'\u001b[39m, scale\u001b[38;5;241m=\u001b[39m\u001b[38;5;241m8\u001b[39m)\n",
      "File \u001b[0;32m~/base-env/lib/python3.11/site-packages/qrcode_artistic.py:225\u001b[0m, in \u001b[0;36mwrite_artistic\u001b[0;34m(qrcode, background, target, mode, format, kind, scale, border, dark, light, finder_dark, finder_light, data_dark, data_light, version_dark, version_light, format_dark, format_light, alignment_dark, alignment_light, timing_dark, timing_light, separator, dark_module, quiet_zone)\u001b[0m\n\u001b[1;32m    221\u001b[0m     res_images[\u001b[38;5;241m0\u001b[39m]\u001b[38;5;241m.\u001b[39msave(target, \u001b[38;5;28mformat\u001b[39m\u001b[38;5;241m=\u001b[39mkind,\n\u001b[1;32m    222\u001b[0m                        duration\u001b[38;5;241m=\u001b[39mdurations, save_all\u001b[38;5;241m=\u001b[39m\u001b[38;5;28;01mTrue\u001b[39;00m,\n\u001b[1;32m    223\u001b[0m                        append_images\u001b[38;5;241m=\u001b[39mres_images[\u001b[38;5;241m1\u001b[39m:], loop\u001b[38;5;241m=\u001b[39mloop)\n\u001b[1;32m    224\u001b[0m \u001b[38;5;28;01melse\u001b[39;00m:\n\u001b[0;32m--> 225\u001b[0m     \u001b[43mres_images\u001b[49m\u001b[43m[\u001b[49m\u001b[38;5;241;43m0\u001b[39;49m\u001b[43m]\u001b[49m\u001b[38;5;241;43m.\u001b[39;49m\u001b[43msave\u001b[49m\u001b[43m(\u001b[49m\u001b[43mtarget\u001b[49m\u001b[43m,\u001b[49m\u001b[43m \u001b[49m\u001b[38;5;28;43mformat\u001b[39;49m\u001b[38;5;241;43m=\u001b[39;49m\u001b[43mkind\u001b[49m\u001b[43m)\u001b[49m\n",
      "File \u001b[0;32m~/base-env/lib/python3.11/site-packages/PIL/Image.py:2393\u001b[0m, in \u001b[0;36mImage.save\u001b[0;34m(self, fp, format, **params)\u001b[0m\n\u001b[1;32m   2391\u001b[0m     \u001b[38;5;28;01mexcept\u001b[39;00m \u001b[38;5;167;01mKeyError\u001b[39;00m \u001b[38;5;28;01mas\u001b[39;00m e:\n\u001b[1;32m   2392\u001b[0m         msg \u001b[38;5;241m=\u001b[39m \u001b[38;5;124mf\u001b[39m\u001b[38;5;124m\"\u001b[39m\u001b[38;5;124munknown file extension: \u001b[39m\u001b[38;5;132;01m{\u001b[39;00mext\u001b[38;5;132;01m}\u001b[39;00m\u001b[38;5;124m\"\u001b[39m\n\u001b[0;32m-> 2393\u001b[0m         \u001b[38;5;28;01mraise\u001b[39;00m \u001b[38;5;167;01mValueError\u001b[39;00m(msg) \u001b[38;5;28;01mfrom\u001b[39;00m \u001b[38;5;21;01me\u001b[39;00m\n\u001b[1;32m   2395\u001b[0m \u001b[38;5;28;01mif\u001b[39;00m \u001b[38;5;28mformat\u001b[39m\u001b[38;5;241m.\u001b[39mupper() \u001b[38;5;129;01mnot\u001b[39;00m \u001b[38;5;129;01min\u001b[39;00m SAVE:\n\u001b[1;32m   2396\u001b[0m     init()\n",
      "\u001b[0;31mValueError\u001b[0m: unknown file extension: .svg"
     ]
    }
   ],
   "source": [
    "zones = list(range(1,len(url_list)))\n",
    "zone_number = zones[0]\n",
    "while zone_number <= max(zones):\n",
    "    for i in url_list:\n",
    "        print(i)\n",
    "        out_name = 'qr_codes/'+zone_names[zone_number-1]+'_qrcode_'+str(zone_number)+'.png'\n",
    "        zone_number += 1\n",
    "        print(out_name)\n",
    "\n",
    "        qrGen(i, 'img/ukri_logo.png', out_name, 20)"
   ]
  },
  {
   "cell_type": "code",
   "execution_count": null,
   "id": "fa5fb08a-8a88-4f21-ae66-0a4473dbe30e",
   "metadata": {},
   "outputs": [],
   "source": []
  }
 ],
 "metadata": {
  "kernelspec": {
   "display_name": "Python 3 (ipykernel)",
   "language": "python",
   "name": "python3"
  },
  "language_info": {
   "codemirror_mode": {
    "name": "ipython",
    "version": 3
   },
   "file_extension": ".py",
   "mimetype": "text/x-python",
   "name": "python",
   "nbconvert_exporter": "python",
   "pygments_lexer": "ipython3",
   "version": "3.11.4"
  }
 },
 "nbformat": 4,
 "nbformat_minor": 5
}
