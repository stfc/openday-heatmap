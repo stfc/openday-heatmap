{
 "cells": [
  {
   "cell_type": "markdown",
   "id": "4eb3ccca-97f3-4fda-bed4-57b45a99e088",
   "metadata": {},
   "source": [
    "# QR barcode generation for Daresbury lab open day 2023"
   ]
  },
  {
   "cell_type": "code",
   "execution_count": 1,
   "id": "17fbe4a7-5dc6-4a30-895e-eff5a35f5f30",
   "metadata": {
    "tags": []
   },
   "outputs": [],
   "source": [
    "import segno\n",
    "import csv"
   ]
  },
  {
   "cell_type": "markdown",
   "id": "74e18fce-8e35-45c4-9cef-d2f6c10bb578",
   "metadata": {
    "tags": []
   },
   "source": [
    "## proof of concept static QC code"
   ]
  },
  {
   "cell_type": "code",
   "execution_count": 2,
   "id": "c3c9ee6b-b912-4bdf-90b1-040032858ff6",
   "metadata": {
    "tags": []
   },
   "outputs": [],
   "source": [
    "#test_qrcode = segno.make('https://www.eventbrite.co.uk/e/daresbury-laboratory-open-day-tickets-99005796001', error='q')\n",
    "#test_qrcode.save('qr_codes/hartreeQR.png', dark='darkblue', data_dark='steelblue', scale=5)"
   ]
  },
  {
   "cell_type": "markdown",
   "id": "3e8ac007-3dee-41e3-8405-9e5f6a68f0cf",
   "metadata": {},
   "source": [
    "### Functional version"
   ]
  },
  {
   "cell_type": "code",
   "execution_count": 3,
   "id": "588613ac-ba3d-4336-9e3d-47c582f159cd",
   "metadata": {
    "tags": []
   },
   "outputs": [],
   "source": [
    "def qrGen(url: str, logo_path: str, out_path: str, scale: int) -> str:\n",
    "    qr_dat = segno.make(url, error='q')\n",
    "    if logo_path:\n",
    "        return qr_dat.to_artistic(background=logo_path, target=out_path, scale=scale)\n",
    "    else:\n",
    "        qr_dat.to_artistic(background='the_way.gif', target='test_anim.gif', scale=8)\n",
    "        return qr_dat.save(out_path, dark='darkblue', data_dark='steelblue', scale=scale)"
   ]
  },
  {
   "cell_type": "markdown",
   "id": "8f4a4438-8312-4a10-97a7-9a9feee79835",
   "metadata": {
    "tags": []
   },
   "source": [
    "## Animated QR codes"
   ]
  },
  {
   "cell_type": "code",
   "execution_count": 4,
   "id": "3ad27b3b-4c88-491f-a756-dd0ed68cbf30",
   "metadata": {},
   "outputs": [],
   "source": [
    "#url = 'https://www.ukri.org'\n",
    "#qr_dat = segno.make(url, error='q')\n",
    "#qr_dat.to_artistic(background='img/ukri_animated.gif', target='qr_codes/test_anim.gif', scale=8, dark='blue', data_dark='steelblue',light='black')"
   ]
  },
  {
   "cell_type": "markdown",
   "id": "9bca3638-830f-49da-96ca-34c7396d0716",
   "metadata": {
    "tags": []
   },
   "source": [
    "watch out - dark code colour doesn't scan!"
   ]
  },
  {
   "cell_type": "code",
   "execution_count": 5,
   "id": "08021dce-e761-401d-b922-e50625d24332",
   "metadata": {},
   "outputs": [],
   "source": [
    "def qrGen_anim(url: str, logo_path: str, out_path: str, scale: int) -> str:\n",
    "    qr_dat = segno.make(url, error='q')\n",
    "    return qr_dat.to_artistic(background=logo_path, target=out_path, scale=scale, data_dark = '2E2D62', data_light='lightblue')"
   ]
  },
  {
   "cell_type": "code",
   "execution_count": 6,
   "id": "154314d1-63e6-490a-89af-5e1b39220d15",
   "metadata": {
    "tags": []
   },
   "outputs": [],
   "source": [
    "#qrGen_anim('https://daresbury-openday.co.uk', 'img/UKRI_Sting_Loop_with_Wordmark.gif', 'qr_codes/func_test.gif', 8)"
   ]
  },
  {
   "cell_type": "code",
   "execution_count": 7,
   "id": "1f497a26-338a-4de2-8d16-e35782988a9e",
   "metadata": {},
   "outputs": [
    {
     "data": {
      "text/plain": [
       "['https://heatmap.hartree.dev/zone/3d-printing?qrcode=1',\n",
       " 'https://heatmap.hartree.dev/zone/blackmagic-design?qrcode=2',\n",
       " 'https://heatmap.hartree.dev/zone/code?qrcode=3',\n",
       " 'https://heatmap.hartree.dev/zone/computing?qrcode=4',\n",
       " 'https://heatmap.hartree.dev/zone/engineering-technology-centre?qrcode=5',\n",
       " 'https://heatmap.hartree.dev/zone/exploring-the-nucleus?qrcode=6',\n",
       " 'https://heatmap.hartree.dev/zone/innovation-centre?qrcode=7',\n",
       " 'https://heatmap.hartree.dev/zone/particles-and-light?qrcode=8',\n",
       " 'https://heatmap.hartree.dev/zone/space?qrcode=9',\n",
       " 'https://heatmap.hartree.dev/zone/super-powered-microscopes?qrcode=10',\n",
       " 'https://heatmap.hartree.dev/zone/talks-and-virtual-tours?qrcode=11',\n",
       " 'https://heatmap.hartree.dev/zone/the-wonder-marquee?qrcode=12',\n",
       " 'https://heatmap.hartree.dev/zone/particle-accelerator?qrcode=13',\n",
       " 'https://heatmap.hartree.dev/zone/particle-accelerator?qrcode=14']"
      ]
     },
     "execution_count": 7,
     "metadata": {},
     "output_type": "execute_result"
    }
   ],
   "source": [
    "with open('url_list.csv', newline='') as f:\n",
    "    reader = csv.reader(f)\n",
    "    url_list = list(reader)\n",
    "\n",
    "url_list = [item for sublist in url_list for item in sublist]\n",
    "url_list"
   ]
  },
  {
   "cell_type": "code",
   "execution_count": 30,
   "id": "c81f3ff0-76e8-4463-a265-a19c0c382f61",
   "metadata": {},
   "outputs": [
    {
     "data": {
      "text/plain": [
       "['3D Printing Zone',\n",
       " 'Lights, Camera, Action with Blackmagic Design',\n",
       " 'Coding Zone',\n",
       " 'Computing Zone',\n",
       " 'Engineering Technology Centre',\n",
       " 'Exploring the Nucleus Zone',\n",
       " 'Innovation Centre',\n",
       " 'Particles and Light Zone',\n",
       " 'Space Zone',\n",
       " 'Super Powered Microscopes',\n",
       " 'Talks and Virtual Tours',\n",
       " 'The Wonder Marquee',\n",
       " 'Particle Accelerator Zone A',\n",
       " 'Particle Accelerator Zone B']"
      ]
     },
     "execution_count": 30,
     "metadata": {},
     "output_type": "execute_result"
    }
   ],
   "source": [
    "with open('zone_names.csv', newline='') as f:\n",
    "    reader = csv.reader(f)\n",
    "    url_list = list(reader)\n",
    "\n",
    "zone_names = [item for sublist in url_list for item in sublist]\n",
    "zone_names"
   ]
  },
  {
   "cell_type": "code",
   "execution_count": 33,
   "id": "b38b4533-5ce5-4dfa-a316-4d9d47093b46",
   "metadata": {},
   "outputs": [
    {
     "ename": "IndexError",
     "evalue": "list index out of range",
     "output_type": "error",
     "traceback": [
      "\u001b[0;31m---------------------------------------------------------------------------\u001b[0m",
      "\u001b[0;31mIndexError\u001b[0m                                Traceback (most recent call last)",
      "Cell \u001b[0;32mIn[33], line 1\u001b[0m\n\u001b[0;32m----> 1\u001b[0m \u001b[43mzone_names\u001b[49m\u001b[43m[\u001b[49m\u001b[38;5;241;43m14\u001b[39;49m\u001b[43m]\u001b[49m\n",
      "\u001b[0;31mIndexError\u001b[0m: list index out of range"
     ]
    }
   ],
   "source": [
    "zone_names[14]"
   ]
  },
  {
   "cell_type": "code",
   "execution_count": 34,
   "id": "22ee806f-ff0e-4cae-836f-0a2efa4de9ce",
   "metadata": {},
   "outputs": [
    {
     "name": "stdout",
     "output_type": "stream",
     "text": [
      "1\n",
      "qr_codes/3D Printing Zone_qrcode_1.png\n",
      "2\n",
      "qr_codes/Lights, Camera, Action with Blackmagic Design_qrcode_2.png\n",
      "3\n",
      "qr_codes/Coding Zone_qrcode_3.png\n",
      "4\n",
      "qr_codes/Computing Zone_qrcode_4.png\n",
      "5\n",
      "qr_codes/Engineering Technology Centre_qrcode_5.png\n",
      "6\n",
      "qr_codes/Exploring the Nucleus Zone_qrcode_6.png\n",
      "7\n",
      "qr_codes/Innovation Centre_qrcode_7.png\n",
      "8\n",
      "qr_codes/Particles and Light Zone_qrcode_8.png\n",
      "9\n",
      "qr_codes/Space Zone_qrcode_9.png\n",
      "10\n",
      "qr_codes/Super Powered Microscopes_qrcode_10.png\n",
      "11\n",
      "qr_codes/Talks and Virtual Tours_qrcode_11.png\n",
      "12\n",
      "qr_codes/The Wonder Marquee_qrcode_12.png\n",
      "13\n",
      "qr_codes/Particle Accelerator Zone A_qrcode_13.png\n",
      "14\n",
      "qr_codes/Particle Accelerator Zone B_qrcode_14.png\n"
     ]
    }
   ],
   "source": [
    "zones = list(range(1,len(url_list)))\n",
    "zone_number = zones[0]\n",
    "while zone_number <= max(zones):\n",
    "    for i in url_list:\n",
    "        print(zone_number)\n",
    "        out_name = 'qr_codes/'+zone_names[zone_number-1]+'_qrcode_'+str(zone_number)+'.png'\n",
    "        zone_number += 1\n",
    "        print(out_name)\n",
    "\n",
    "        qrGen(i, 'img/ukri_logo.png', out_name, 20)"
   ]
  },
  {
   "cell_type": "code",
   "execution_count": null,
   "id": "fa5fb08a-8a88-4f21-ae66-0a4473dbe30e",
   "metadata": {},
   "outputs": [],
   "source": []
  }
 ],
 "metadata": {
  "kernelspec": {
   "display_name": "Python 3 (ipykernel)",
   "language": "python",
   "name": "python3"
  },
  "language_info": {
   "codemirror_mode": {
    "name": "ipython",
    "version": 3
   },
   "file_extension": ".py",
   "mimetype": "text/x-python",
   "name": "python",
   "nbconvert_exporter": "python",
   "pygments_lexer": "ipython3",
   "version": "3.11.4"
  }
 },
 "nbformat": 4,
 "nbformat_minor": 5
}
