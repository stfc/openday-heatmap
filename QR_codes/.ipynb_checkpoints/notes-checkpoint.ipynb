{
 "cells": [
  {
   "cell_type": "markdown",
   "id": "4eb3ccca-97f3-4fda-bed4-57b45a99e088",
   "metadata": {},
   "source": [
    "# QR barcode generation for Daresbury lab open day 2023"
   ]
  },
  {
   "cell_type": "code",
   "execution_count": 1,
   "id": "17fbe4a7-5dc6-4a30-895e-eff5a35f5f30",
   "metadata": {
    "tags": []
   },
   "outputs": [],
   "source": [
    "import segno\n",
    "import csv"
   ]
  },
  {
   "cell_type": "markdown",
   "id": "74e18fce-8e35-45c4-9cef-d2f6c10bb578",
   "metadata": {
    "tags": []
   },
   "source": [
    "## proof of concept static QC code"
   ]
  },
  {
   "cell_type": "code",
   "execution_count": 2,
   "id": "c3c9ee6b-b912-4bdf-90b1-040032858ff6",
   "metadata": {
    "tags": []
   },
   "outputs": [],
   "source": [
    "#test_qrcode = segno.make('https://www.eventbrite.co.uk/e/daresbury-laboratory-open-day-tickets-99005796001', error='q')\n",
    "#test_qrcode.save('qr_codes/hartreeQR.png', dark='darkblue', data_dark='steelblue', scale=5)"
   ]
  },
  {
   "cell_type": "markdown",
   "id": "3e8ac007-3dee-41e3-8405-9e5f6a68f0cf",
   "metadata": {},
   "source": [
    "### Functional version"
   ]
  },
  {
   "cell_type": "code",
   "execution_count": 3,
   "id": "588613ac-ba3d-4336-9e3d-47c582f159cd",
   "metadata": {
    "tags": []
   },
   "outputs": [],
   "source": [
    "def qrGen(url: str, logo_path: str, out_path: str, scale: int) -> str:\n",
    "    qr_dat = segno.make(url, error='q')\n",
    "    if logo_path:\n",
    "        return qr_dat.to_artistic(background=logo_path, target=out_path, scale=scale)\n",
    "    else:\n",
    "        qr_dat.to_artistic(background='the_way.gif', target='test_anim.gif', scale=8)\n",
    "        return qr_dat.save(out_path, dark='darkblue', data_dark='steelblue', scale=scale)"
   ]
  },
  {
   "cell_type": "markdown",
   "id": "8f4a4438-8312-4a10-97a7-9a9feee79835",
   "metadata": {
    "tags": []
   },
   "source": [
    "## Animated QR codes"
   ]
  },
  {
   "cell_type": "code",
   "execution_count": 6,
   "id": "3ad27b3b-4c88-491f-a756-dd0ed68cbf30",
   "metadata": {},
   "outputs": [],
   "source": [
    "#url = 'https://www.ukri.org'\n",
    "#qr_dat = segno.make(url, error='q')\n",
    "#qr_dat.to_artistic(background='img/ukri_animated.gif', target='qr_codes/test_anim.gif', scale=8, dark='blue', data_dark='steelblue',light='black')"
   ]
  },
  {
   "cell_type": "markdown",
   "id": "9bca3638-830f-49da-96ca-34c7396d0716",
   "metadata": {
    "tags": []
   },
   "source": [
    "watch out - dark code colour doesn't scan!"
   ]
  },
  {
   "cell_type": "code",
   "execution_count": 7,
   "id": "08021dce-e761-401d-b922-e50625d24332",
   "metadata": {},
   "outputs": [],
   "source": [
    "def qrGen_anim(url: str, logo_path: str, out_path: str, scale: int) -> str:\n",
    "    qr_dat = segno.make(url, error='q')\n",
    "    return qr_dat.to_artistic(background=logo_path, target=out_path, scale=scale, data_dark = '2E2D62', data_light='lightblue')"
   ]
  },
  {
   "cell_type": "code",
   "execution_count": 8,
   "id": "154314d1-63e6-490a-89af-5e1b39220d15",
   "metadata": {
    "tags": []
   },
   "outputs": [],
   "source": [
    "#qrGen_anim('https://daresbury-openday.co.uk', 'img/UKRI_Sting_Loop_with_Wordmark.gif', 'qr_codes/func_test.gif', 8)"
   ]
  },
  {
   "cell_type": "code",
   "execution_count": 9,
   "id": "1f497a26-338a-4de2-8d16-e35782988a9e",
   "metadata": {},
   "outputs": [
    {
     "data": {
      "text/plain": [
       "['https://heatmap.hartree.dev/zone/3d-printing?qrcode=1',\n",
       " '',\n",
       " 'https://heatmap.hartree.dev/zone/blackmagic-design?qrcode=2',\n",
       " '',\n",
       " 'https://heatmap.hartree.dev/zone/code?qrcode=3',\n",
       " '',\n",
       " 'https://heatmap.hartree.dev/zone/computing?qrcode=4',\n",
       " '',\n",
       " 'https://heatmap.hartree.dev/zone/engineering-technology-centre?qrcode=5',\n",
       " '',\n",
       " 'https://heatmap.hartree.dev/zone/exploring-the-nucleus?qrcode=6',\n",
       " '',\n",
       " 'https://heatmap.hartree.dev/zone/innovation-centre?qrcode=7',\n",
       " '',\n",
       " 'https://heatmap.hartree.dev/zone/particles-and-light?qrcode=8',\n",
       " '',\n",
       " 'https://heatmap.hartree.dev/zone/space?qrcode=9',\n",
       " '',\n",
       " 'https://heatmap.hartree.dev/zone/super-powered-microscopes?qrcode=10',\n",
       " '',\n",
       " 'https://heatmap.hartree.dev/zone/talks-and-virtual-tours?qrcode=11',\n",
       " '',\n",
       " 'https://heatmap.hartree.dev/zone/the-wonder-marquee?qrcode=12',\n",
       " '',\n",
       " 'https://heatmap.hartree.dev/zone/particle-accelerator?qrcode=13',\n",
       " '',\n",
       " 'https://heatmap.hartree.dev/zone/particle-accelerator?qrcode=14',\n",
       " '']"
      ]
     },
     "execution_count": 9,
     "metadata": {},
     "output_type": "execute_result"
    }
   ],
   "source": [
    "with open('url_list.csv', newline='') as f:\n",
    "    reader = csv.reader(f)\n",
    "    url_list = list(reader)\n",
    "\n",
    "url_list = [item for sublist in url_list for item in sublist]\n",
    "url_list"
   ]
  },
  {
   "cell_type": "code",
   "execution_count": 10,
   "id": "22ee806f-ff0e-4cae-836f-0a2efa4de9ce",
   "metadata": {},
   "outputs": [
    {
     "name": "stdout",
     "output_type": "stream",
     "text": [
      "qr_codes/zone1.png\n",
      "qr_codes/zone2.png\n",
      "qr_codes/zone3.png\n",
      "qr_codes/zone4.png\n",
      "qr_codes/zone5.png\n",
      "qr_codes/zone6.png\n",
      "qr_codes/zone7.png\n",
      "qr_codes/zone8.png\n",
      "qr_codes/zone9.png\n",
      "qr_codes/zone10.png\n",
      "qr_codes/zone11.png\n",
      "qr_codes/zone12.png\n",
      "qr_codes/zone13.png\n",
      "qr_codes/zone14.png\n",
      "qr_codes/zone15.png\n",
      "qr_codes/zone16.png\n",
      "qr_codes/zone17.png\n",
      "qr_codes/zone18.png\n",
      "qr_codes/zone19.png\n",
      "qr_codes/zone20.png\n",
      "qr_codes/zone21.png\n",
      "qr_codes/zone22.png\n",
      "qr_codes/zone23.png\n",
      "qr_codes/zone24.png\n",
      "qr_codes/zone25.png\n",
      "qr_codes/zone26.png\n",
      "qr_codes/zone27.png\n",
      "qr_codes/zone28.png\n"
     ]
    }
   ],
   "source": [
    "zones = list(range(1,len(url_list)+1))\n",
    "zone_number = zones[0]\n",
    "while zone_number <= zones[-1]:\n",
    "    for i in url_list:\n",
    "        out_name = 'qr_codes/'+'zone'+str(zone_number)+'.png'\n",
    "        zone_number += 1\n",
    "        print(out_name)\n",
    "\n",
    "        qrGen(i, 'img/ukri_logo.png', out_name, 20)"
   ]
  }
 ],
 "metadata": {
  "kernelspec": {
   "display_name": "Python 3 (ipykernel)",
   "language": "python",
   "name": "python3"
  },
  "language_info": {
   "codemirror_mode": {
    "name": "ipython",
    "version": 3
   },
   "file_extension": ".py",
   "mimetype": "text/x-python",
   "name": "python",
   "nbconvert_exporter": "python",
   "pygments_lexer": "ipython3",
   "version": "3.11.4"
  }
 },
 "nbformat": 4,
 "nbformat_minor": 5
}
