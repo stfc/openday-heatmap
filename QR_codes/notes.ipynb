{
 "cells": [
  {
   "cell_type": "markdown",
   "id": "4eb3ccca-97f3-4fda-bed4-57b45a99e088",
   "metadata": {},
   "source": [
    "# QR barcode generation for Daresbury lab open day 2023"
   ]
  },
  {
   "cell_type": "code",
   "execution_count": 10,
   "id": "17fbe4a7-5dc6-4a30-895e-eff5a35f5f30",
   "metadata": {
    "tags": []
   },
   "outputs": [],
   "source": [
    "import segno"
   ]
  },
  {
   "cell_type": "markdown",
   "id": "74e18fce-8e35-45c4-9cef-d2f6c10bb578",
   "metadata": {
    "tags": []
   },
   "source": [
    "## proof of concept static QC code"
   ]
  },
  {
   "cell_type": "code",
   "execution_count": 11,
   "id": "c3c9ee6b-b912-4bdf-90b1-040032858ff6",
   "metadata": {
    "tags": []
   },
   "outputs": [],
   "source": [
    "test_qrcode = segno.make('https://www.eventbrite.co.uk/e/daresbury-laboratory-open-day-tickets-99005796001', error='q')\n",
    "test_qrcode.save('qr_codes/hartreeQR.png', dark='darkblue', data_dark='steelblue', scale=5)"
   ]
  },
  {
   "cell_type": "markdown",
   "id": "ba6b6c32-1358-4d87-b75a-972cb09e1a2d",
   "metadata": {},
   "source": [
    "seems to work"
   ]
  },
  {
   "cell_type": "markdown",
   "id": "3e8ac007-3dee-41e3-8405-9e5f6a68f0cf",
   "metadata": {},
   "source": [
    "### Functional version"
   ]
  },
  {
   "cell_type": "code",
   "execution_count": 12,
   "id": "588613ac-ba3d-4336-9e3d-47c582f159cd",
   "metadata": {
    "tags": []
   },
   "outputs": [],
   "source": [
    "def qrGen(url: str, logo_path: str, out_path: str, scale: int) -> str:\n",
    "    qr_dat = segno.make(url, error='q')\n",
    "    if logo_path:\n",
    "        return qr_dat.to_artistic(background=logo_path, target=out_path, scale=scale)\n",
    "    else:\n",
    "        qr_dat.to_artistic(background='the_way.gif', target='test_anim.gif', scale=8)\n",
    "        return qr_dat.save(out_path, dark='darkblue', data_dark='steelblue', scale=scale)"
   ]
  },
  {
   "cell_type": "code",
   "execution_count": 13,
   "id": "746b37e5-fd07-4315-a0b7-a6bd427b85a4",
   "metadata": {
    "tags": []
   },
   "outputs": [],
   "source": [
    "qrGen('https://www.eventbrite.co.uk/e/daresbury-laboratory-open-day-tickets-9900579600','img/ukri_logo.png','qr_codes/test.png',10)"
   ]
  },
  {
   "cell_type": "code",
   "execution_count": 14,
   "id": "a9f57c09-7b18-4f42-95b6-96b94d784a3a",
   "metadata": {
    "tags": []
   },
   "outputs": [],
   "source": [
    "# without a logo background\n",
    "#qrGen('https://www.eventbrite.co.uk/e/daresbury-laboratory-open-day-tickets-9900579600','','test.png',10)"
   ]
  },
  {
   "cell_type": "markdown",
   "id": "8f4a4438-8312-4a10-97a7-9a9feee79835",
   "metadata": {
    "tags": []
   },
   "source": [
    "## Animated QR codes"
   ]
  },
  {
   "cell_type": "code",
   "execution_count": 21,
   "id": "3ad27b3b-4c88-491f-a756-dd0ed68cbf30",
   "metadata": {},
   "outputs": [],
   "source": [
    "url = 'https://www.ukri.org'\n",
    "qr_dat = segno.make(url, error='q')\n",
    "qr_dat.to_artistic(background='img/ukri_animated.gif', target='qr_codes/test_anim.gif', scale=8, dark='blue', data_dark='steelblue',light='black')"
   ]
  },
  {
   "cell_type": "markdown",
   "id": "9bca3638-830f-49da-96ca-34c7396d0716",
   "metadata": {
    "tags": []
   },
   "source": [
    "watch out - dark code colour doesn't scan!"
   ]
  },
  {
   "cell_type": "code",
   "execution_count": 23,
   "id": "08021dce-e761-401d-b922-e50625d24332",
   "metadata": {},
   "outputs": [],
   "source": [
    "def qrGen_anim(url: str, logo_path: str, out_path: str, scale: int) -> str:\n",
    "    qr_dat = segno.make(url, error='q')\n",
    "    return qr_dat.to_artistic(background=logo_path, target=out_path, scale=scale, data_dark = '2E2D62', data_light='lightblue')"
   ]
  },
  {
   "cell_type": "code",
   "execution_count": 26,
   "id": "154314d1-63e6-490a-89af-5e1b39220d15",
   "metadata": {
    "tags": []
   },
   "outputs": [],
   "source": [
    "qrGen_anim('https://daresbury-openday.co.uk', 'img/UKRI_Sting_Loop_with_Wordmark.gif', 'qr_codes/func_test.gif', 8)"
   ]
  },
  {
   "cell_type": "code",
   "execution_count": null,
   "id": "1f497a26-338a-4de2-8d16-e35782988a9e",
   "metadata": {},
   "outputs": [],
   "source": []
  }
 ],
 "metadata": {
  "kernelspec": {
   "display_name": "Python 3 (ipykernel)",
   "language": "python",
   "name": "python3"
  },
  "language_info": {
   "codemirror_mode": {
    "name": "ipython",
    "version": 3
   },
   "file_extension": ".py",
   "mimetype": "text/x-python",
   "name": "python",
   "nbconvert_exporter": "python",
   "pygments_lexer": "ipython3",
   "version": "3.10.10"
  }
 },
 "nbformat": 4,
 "nbformat_minor": 5
}
